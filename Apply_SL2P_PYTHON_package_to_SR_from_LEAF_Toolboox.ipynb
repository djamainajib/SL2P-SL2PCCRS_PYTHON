{
 "cells": [
  {
   "cell_type": "code",
   "execution_count": 1,
   "id": "53eb4f59-3abd-4895-aead-2500bc6a86b5",
   "metadata": {
    "tags": []
   },
   "outputs": [],
   "source": [
    "import sys,os\n",
    "[sys.path.append(x[0]) for x in os.walk('SL2P_PYTHON_package')]\n",
    "import dictionariesSL2P\n",
    "\n",
    "from matplotlib import pyplot as plt\n",
    "import os,numpy\n",
    "import rasterio\n",
    "import os\n",
    "import pandas as pd\n",
    "import pickle\n",
    "import tqdm"
   ]
  },
  {
   "cell_type": "code",
   "execution_count": 2,
   "id": "eee9eb58-6803-41fb-9653-5a4d02366dfb",
   "metadata": {
    "tags": []
   },
   "outputs": [],
   "source": [
    "def blockPrint():\n",
    "    sys.stdout = open(os.devnull, 'w')"
   ]
  },
  {
   "cell_type": "code",
   "execution_count": 3,
   "id": "a708c0e6-9399-451e-b4d1-9b97aa0c4b7c",
   "metadata": {
    "tags": []
   },
   "outputs": [],
   "source": [
    "def readfile(fn):\n",
    "    with open(fn, \"rb\") as fp:   #Pickling\n",
    "            sampleDictionary = pickle.load(fp)\n",
    "    return sampleDictionary"
   ]
  },
  {
   "cell_type": "code",
   "execution_count": 4,
   "id": "3ec4bac1-433e-4235-bfec-e87654eec069",
   "metadata": {
    "tags": []
   },
   "outputs": [],
   "source": [
    "def writefile(sampleDictionary,fn):\n",
    "    with open(fn, \"wb\") as fp:   #Pickling\n",
    "        pickle.dump(sampleDictionary, fp) \n",
    "    fp.close()\n",
    "    return "
   ]
  },
  {
   "cell_type": "code",
   "execution_count": 5,
   "id": "df38d44e-7e87-4404-b64b-497d4fde38e3",
   "metadata": {
    "tags": []
   },
   "outputs": [],
   "source": [
    "def runSL2P(SRsamples,variableName,imageCollectionName,sl2p_inputs_bands):\n",
    "    blockPrint()\n",
    "    keys=list(SRsamples.keys())\n",
    "    for key in  keys:\n",
    "        for esu in range(len(SRsamples[key])):\n",
    "            att=list(SRsamples[key][esu].keys())[1]\n",
    "            samples=SRsamples[key][esu][att]\n",
    "            estimatesdict=SRsamples[key][esu]\n",
    "            estimatesdict.pop(att) \n",
    "            if not samples.empty:\n",
    "                if imageCollectionName.startswith('S2'):\n",
    "                        samples=samples.rename(columns={\"B3\": \"B03\",\"B4\": \"B04\",\"B5\": \"B05\",\"B6\": \"B06\",\"B7\": \"B07\"})\n",
    "                estimates=SL2P(samples,variableName,imageCollectionName,sl2p_inputs_bands)\n",
    "                estimates=estimates.drop(['QC_output'],axis=1).rename(columns={'QC_input':'QC'})\n",
    "                estimates=pd.concat([samples[['date', 'longitude', 'latitude']],estimates],axis=1)\n",
    "            else:\n",
    "                estimates=pd.DataFrame()\n",
    "                \n",
    "            estimatesdict[SL2P.__name__]=estimates \n",
    "                       \n",
    "            SRsamples[key][esu] =estimatesdict\n",
    "                #SRsamples[key][esu][SL2P.__name__]=SRsamples[key][esu].pop(att) # rename dictionary attribute \n",
    "    return SRsamples      "
   ]
  },
  {
   "cell_type": "markdown",
   "id": "f27df940-b62c-448e-8a18-9a7788db39b8",
   "metadata": {
    "tags": []
   },
   "source": [
    "### Select SL2P version (SL2PV0 or SL2PCCRS)"
   ]
  },
  {
   "cell_type": "code",
   "execution_count": 6,
   "id": "35ffd0dc-7813-427f-825e-5d07fde695ec",
   "metadata": {
    "tags": []
   },
   "outputs": [],
   "source": [
    "fn='testdata/NEON_2013-22_RMs_updated_CCRSInSitu2019_COPERNICUS_S2_SR_HARMONIZED_Surface_reflectance_testdata.pkl'"
   ]
  },
  {
   "cell_type": "code",
   "execution_count": 19,
   "id": "7dd0bcff-9f12-4c1f-a707-0253adfbe47f",
   "metadata": {
    "tags": []
   },
   "outputs": [],
   "source": [
    "algorithm='SL2PCCRS'                   # 'SL2PV0' or 'SL2PCCRS'\n",
    "imageCollectionName=\"S2_L2A\"           # 'S2_L2A', 'S2_L2A_10m', 'LC08_T1L2', 'LC09_T1L2', 'HLSL30'\n",
    "variableName='fAPAR'                     # 'Albedo', 'fAPAR', 'fCOVER', 'LAI', 'CCC', 'CWC'"
   ]
  },
  {
   "cell_type": "code",
   "execution_count": 20,
   "id": "c1fdda25-d702-4ad0-a1fd-f5925ad56015",
   "metadata": {
    "tags": []
   },
   "outputs": [],
   "source": [
    "#### Input data Control ***-\n",
    "if variableName not in dictionariesSL2P.make_net_options().keys():\n",
    "    raise ValueError(('Supported vegetation valiables: %s'%(dictionariesSL2P.make_net_options().keys())))\n",
    "if imageCollectionName not in dictionariesSL2P.make_net_options()[variableName].keys():\n",
    "    raise ValueError(('Supported EO datasets: %s'%(dictionariesSL2P.make_net_options()[variableName].keys())))  \n",
    "       \n",
    "sl2p_inputs_bands=dictionariesSL2P.make_net_options()[variableName][imageCollectionName]['inputBands']  \n",
    "print ('SL2P input data format for %s data: %s' %(imageCollectionName,sl2p_inputs_bands))"
   ]
  },
  {
   "cell_type": "code",
   "execution_count": 21,
   "id": "0af3bb80-0ae7-4410-85e8-e507a5959b32",
   "metadata": {
    "tags": []
   },
   "outputs": [],
   "source": [
    "if algorithm=='SL2PV0':\n",
    "    from SL2P import SL2P as SL2P\n",
    "elif algorithm=='SL2PCCRS':\n",
    "    from SL2P import SL2PCCRS as SL2P\n",
    "else:\n",
    "    raise ValueError(('SL2P version: SL2PV0 and SL2PCCRS')) "
   ]
  },
  {
   "cell_type": "markdown",
   "id": "444c35f9-d1ac-44b0-b34f-54411cb23399",
   "metadata": {},
   "source": [
    "##### 1- Read SR data (.pkl)"
   ]
  },
  {
   "cell_type": "code",
   "execution_count": 22,
   "id": "e1ae9eb4-10db-4f97-b8f3-672a19c19da4",
   "metadata": {
    "tags": []
   },
   "outputs": [],
   "source": [
    "SRsamples=readfile(fn)"
   ]
  },
  {
   "cell_type": "markdown",
   "id": "03e547ae-b4e4-44a7-91ab-5d5a4b857177",
   "metadata": {},
   "source": [
    "##### 2- Run SL2P"
   ]
  },
  {
   "cell_type": "code",
   "execution_count": 23,
   "id": "40515d36-afc2-4af9-ada7-ea25367d5bdf",
   "metadata": {
    "tags": []
   },
   "outputs": [],
   "source": [
    "BIOsamples=runSL2P(SRsamples,variableName,imageCollectionName,sl2p_inputs_bands)"
   ]
  },
  {
   "cell_type": "markdown",
   "id": "859d57ad-b342-4825-951e-22946e85cbab",
   "metadata": {},
   "source": [
    "##### 3- Export product (.pkl)"
   ]
  },
  {
   "cell_type": "code",
   "execution_count": 24,
   "id": "5820e424-1847-4a4c-8290-fd80fa83cb44",
   "metadata": {
    "tags": []
   },
   "outputs": [],
   "source": [
    "ofn=fn.replace('.pkl','_%s_%s.pkl'%(SL2P.__name__,variableName))\n",
    "writefile(BIOsamples,ofn)"
   ]
  },
  {
   "cell_type": "code",
   "execution_count": null,
   "id": "6e300c4b-f361-40a3-ac8b-0f6f50eb903f",
   "metadata": {},
   "outputs": [],
   "source": []
  },
  {
   "cell_type": "code",
   "execution_count": null,
   "id": "f342d0c9-b180-4774-a418-615fe551556b",
   "metadata": {},
   "outputs": [],
   "source": []
  }
 ],
 "metadata": {
  "kernelspec": {
   "display_name": "Python 3 (ipykernel)",
   "language": "python",
   "name": "python3"
  },
  "language_info": {
   "codemirror_mode": {
    "name": "ipython",
    "version": 3
   },
   "file_extension": ".py",
   "mimetype": "text/x-python",
   "name": "python",
   "nbconvert_exporter": "python",
   "pygments_lexer": "ipython3",
   "version": "3.11.5"
  }
 },
 "nbformat": 4,
 "nbformat_minor": 5
}
